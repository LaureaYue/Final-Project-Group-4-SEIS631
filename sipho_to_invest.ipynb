{
 "cells": [
  {
   "cell_type": "code",
   "execution_count": null,
   "id": "2fd0fde1-73e1-4f61-9b76-a7484fdb5b0d",
   "metadata": {},
   "outputs": [
    {
     "data": {
      "text/html": [
       "<div>\n",
       "<style scoped>\n",
       "    .dataframe tbody tr th:only-of-type {\n",
       "        vertical-align: middle;\n",
       "    }\n",
       "\n",
       "    .dataframe tbody tr th {\n",
       "        vertical-align: top;\n",
       "    }\n",
       "\n",
       "    .dataframe thead th {\n",
       "        text-align: right;\n",
       "    }\n",
       "</style>\n",
       "<table border=\"1\" class=\"dataframe\">\n",
       "  <thead>\n",
       "    <tr style=\"text-align: right;\">\n",
       "      <th></th>\n",
       "      <th>RegionID</th>\n",
       "      <th>SizeRank</th>\n",
       "      <th>RegionName</th>\n",
       "      <th>RegionType</th>\n",
       "      <th>StateName</th>\n",
       "      <th>BaseDate</th>\n",
       "      <th>2024-11-30</th>\n",
       "      <th>2025-01-31</th>\n",
       "      <th>2025-10-31</th>\n",
       "    </tr>\n",
       "  </thead>\n",
       "  <tbody>\n",
       "    <tr>\n",
       "      <th>0</th>\n",
       "      <td>102001</td>\n",
       "      <td>0</td>\n",
       "      <td>United States</td>\n",
       "      <td>country</td>\n",
       "      <td>NaN</td>\n",
       "      <td>2024-10-31</td>\n",
       "      <td>0.2</td>\n",
       "      <td>0.6</td>\n",
       "      <td>2.9</td>\n",
       "    </tr>\n",
       "    <tr>\n",
       "      <th>1</th>\n",
       "      <td>394913</td>\n",
       "      <td>1</td>\n",
       "      <td>New York, NY</td>\n",
       "      <td>msa</td>\n",
       "      <td>NY</td>\n",
       "      <td>2024-10-31</td>\n",
       "      <td>0.3</td>\n",
       "      <td>0.5</td>\n",
       "      <td>1.5</td>\n",
       "    </tr>\n",
       "    <tr>\n",
       "      <th>2</th>\n",
       "      <td>753899</td>\n",
       "      <td>2</td>\n",
       "      <td>Los Angeles, CA</td>\n",
       "      <td>msa</td>\n",
       "      <td>CA</td>\n",
       "      <td>2024-10-31</td>\n",
       "      <td>0.2</td>\n",
       "      <td>0.4</td>\n",
       "      <td>2.3</td>\n",
       "    </tr>\n",
       "    <tr>\n",
       "      <th>3</th>\n",
       "      <td>394463</td>\n",
       "      <td>3</td>\n",
       "      <td>Chicago, IL</td>\n",
       "      <td>msa</td>\n",
       "      <td>IL</td>\n",
       "      <td>2024-10-31</td>\n",
       "      <td>0.1</td>\n",
       "      <td>0.2</td>\n",
       "      <td>1.1</td>\n",
       "    </tr>\n",
       "    <tr>\n",
       "      <th>4</th>\n",
       "      <td>394514</td>\n",
       "      <td>4</td>\n",
       "      <td>Dallas, TX</td>\n",
       "      <td>msa</td>\n",
       "      <td>TX</td>\n",
       "      <td>2024-10-31</td>\n",
       "      <td>-0.2</td>\n",
       "      <td>-0.7</td>\n",
       "      <td>1.2</td>\n",
       "    </tr>\n",
       "  </tbody>\n",
       "</table>\n",
       "</div>"
      ],
      "text/plain": [
       "   RegionID  SizeRank       RegionName RegionType StateName    BaseDate  \\\n",
       "0    102001         0    United States    country       NaN  2024-10-31   \n",
       "1    394913         1     New York, NY        msa        NY  2024-10-31   \n",
       "2    753899         2  Los Angeles, CA        msa        CA  2024-10-31   \n",
       "3    394463         3      Chicago, IL        msa        IL  2024-10-31   \n",
       "4    394514         4       Dallas, TX        msa        TX  2024-10-31   \n",
       "\n",
       "   2024-11-30  2025-01-31  2025-10-31  \n",
       "0         0.2         0.6         2.9  \n",
       "1         0.3         0.5         1.5  \n",
       "2         0.2         0.4         2.3  \n",
       "3         0.1         0.2         1.1  \n",
       "4        -0.2        -0.7         1.2  "
      ]
     },
     "execution_count": 1,
     "metadata": {},
     "output_type": "execute_result"
    }
   ],
   "source": [
    "##Should i invest or not \n",
    "\n",
    "import pandas as pd\n",
    "import matplotlib.pyplot as plt\n",
    "import seaborn as sns\n",
    "\n",
    "df = pd.read_csv(\"Metro_zhvf_growth_uc_sfrcondo_tier_0.33_0.67_sm_sa_month.csv\")\n",
    "df.head(5)\n"
   ]
  },
  {
   "cell_type": "code",
   "execution_count": 2,
   "id": "01907290-652b-4ddc-a200-7c4b1dc48f77",
   "metadata": {},
   "outputs": [
    {
     "data": {
      "text/html": [
       "<div>\n",
       "<style scoped>\n",
       "    .dataframe tbody tr th:only-of-type {\n",
       "        vertical-align: middle;\n",
       "    }\n",
       "\n",
       "    .dataframe tbody tr th {\n",
       "        vertical-align: top;\n",
       "    }\n",
       "\n",
       "    .dataframe thead th {\n",
       "        text-align: right;\n",
       "    }\n",
       "</style>\n",
       "<table border=\"1\" class=\"dataframe\">\n",
       "  <thead>\n",
       "    <tr style=\"text-align: right;\">\n",
       "      <th></th>\n",
       "      <th>RegionID</th>\n",
       "      <th>SizeRank</th>\n",
       "      <th>RegionName</th>\n",
       "      <th>RegionType</th>\n",
       "      <th>StateName</th>\n",
       "      <th>BaseDate</th>\n",
       "      <th>2024-11-30</th>\n",
       "      <th>2025-01-31</th>\n",
       "      <th>2025-10-31</th>\n",
       "    </tr>\n",
       "  </thead>\n",
       "  <tbody>\n",
       "    <tr>\n",
       "      <th>890</th>\n",
       "      <td>753929</td>\n",
       "      <td>935</td>\n",
       "      <td>Zapata, TX</td>\n",
       "      <td>msa</td>\n",
       "      <td>TX</td>\n",
       "      <td>2024-10-31</td>\n",
       "      <td>-0.8</td>\n",
       "      <td>-2.6</td>\n",
       "      <td>-7.2</td>\n",
       "    </tr>\n",
       "    <tr>\n",
       "      <th>891</th>\n",
       "      <td>394743</td>\n",
       "      <td>936</td>\n",
       "      <td>Ketchikan, AK</td>\n",
       "      <td>msa</td>\n",
       "      <td>AK</td>\n",
       "      <td>2024-10-31</td>\n",
       "      <td>0.2</td>\n",
       "      <td>0.1</td>\n",
       "      <td>-0.9</td>\n",
       "    </tr>\n",
       "    <tr>\n",
       "      <th>892</th>\n",
       "      <td>753874</td>\n",
       "      <td>937</td>\n",
       "      <td>Craig, CO</td>\n",
       "      <td>msa</td>\n",
       "      <td>CO</td>\n",
       "      <td>2024-10-31</td>\n",
       "      <td>0.4</td>\n",
       "      <td>1.0</td>\n",
       "      <td>4.4</td>\n",
       "    </tr>\n",
       "    <tr>\n",
       "      <th>893</th>\n",
       "      <td>395188</td>\n",
       "      <td>938</td>\n",
       "      <td>Vernon, TX</td>\n",
       "      <td>msa</td>\n",
       "      <td>TX</td>\n",
       "      <td>2024-10-31</td>\n",
       "      <td>-1.4</td>\n",
       "      <td>-2.2</td>\n",
       "      <td>-4.3</td>\n",
       "    </tr>\n",
       "    <tr>\n",
       "      <th>894</th>\n",
       "      <td>394767</td>\n",
       "      <td>939</td>\n",
       "      <td>Lamesa, TX</td>\n",
       "      <td>msa</td>\n",
       "      <td>TX</td>\n",
       "      <td>2024-10-31</td>\n",
       "      <td>-0.2</td>\n",
       "      <td>-0.7</td>\n",
       "      <td>-4.5</td>\n",
       "    </tr>\n",
       "  </tbody>\n",
       "</table>\n",
       "</div>"
      ],
      "text/plain": [
       "     RegionID  SizeRank     RegionName RegionType StateName    BaseDate  \\\n",
       "890    753929       935     Zapata, TX        msa        TX  2024-10-31   \n",
       "891    394743       936  Ketchikan, AK        msa        AK  2024-10-31   \n",
       "892    753874       937      Craig, CO        msa        CO  2024-10-31   \n",
       "893    395188       938     Vernon, TX        msa        TX  2024-10-31   \n",
       "894    394767       939     Lamesa, TX        msa        TX  2024-10-31   \n",
       "\n",
       "     2024-11-30  2025-01-31  2025-10-31  \n",
       "890        -0.8        -2.6        -7.2  \n",
       "891         0.2         0.1        -0.9  \n",
       "892         0.4         1.0         4.4  \n",
       "893        -1.4        -2.2        -4.3  \n",
       "894        -0.2        -0.7        -4.5  "
      ]
     },
     "execution_count": 2,
     "metadata": {},
     "output_type": "execute_result"
    }
   ],
   "source": [
    "df.tail(5)"
   ]
  },
  {
   "cell_type": "code",
   "execution_count": 3,
   "id": "091da0f9-a8bc-4e62-b54d-42c9c561c12f",
   "metadata": {},
   "outputs": [
    {
     "data": {
      "text/plain": [
       "RegionID        int64\n",
       "SizeRank        int64\n",
       "RegionName     object\n",
       "RegionType     object\n",
       "StateName      object\n",
       "BaseDate       object\n",
       "2024-11-30    float64\n",
       "2025-01-31    float64\n",
       "2025-10-31    float64\n",
       "dtype: object"
      ]
     },
     "execution_count": 3,
     "metadata": {},
     "output_type": "execute_result"
    }
   ],
   "source": [
    "df.dtypes\n"
   ]
  },
  {
   "cell_type": "code",
   "execution_count": 4,
   "id": "86092862-9cc6-42c9-bd05-8b10c2e2e6cc",
   "metadata": {},
   "outputs": [
    {
     "data": {
      "text/plain": [
       "(895, 9)"
      ]
     },
     "execution_count": 4,
     "metadata": {},
     "output_type": "execute_result"
    }
   ],
   "source": [
    "df.shape"
   ]
  },
  {
   "cell_type": "code",
   "execution_count": 5,
   "id": "c1ff5478-9fe7-48db-8d48-c06f83cea26d",
   "metadata": {},
   "outputs": [
    {
     "data": {
      "text/plain": [
       "RegionID      895\n",
       "SizeRank      895\n",
       "RegionName    895\n",
       "RegionType    895\n",
       "StateName     894\n",
       "BaseDate      895\n",
       "2024-11-30    895\n",
       "2025-01-31    895\n",
       "2025-10-31    895\n",
       "dtype: int64"
      ]
     },
     "execution_count": 5,
     "metadata": {},
     "output_type": "execute_result"
    }
   ],
   "source": [
    "df.count() "
   ]
  },
  {
   "cell_type": "code",
   "execution_count": 6,
   "id": "2543f1ea-18de-4cd3-8ccf-2163b5059982",
   "metadata": {},
   "outputs": [
    {
     "data": {
      "text/html": [
       "<div>\n",
       "<style scoped>\n",
       "    .dataframe tbody tr th:only-of-type {\n",
       "        vertical-align: middle;\n",
       "    }\n",
       "\n",
       "    .dataframe tbody tr th {\n",
       "        vertical-align: top;\n",
       "    }\n",
       "\n",
       "    .dataframe thead th {\n",
       "        text-align: right;\n",
       "    }\n",
       "</style>\n",
       "<table border=\"1\" class=\"dataframe\">\n",
       "  <thead>\n",
       "    <tr style=\"text-align: right;\">\n",
       "      <th></th>\n",
       "      <th>RegionID</th>\n",
       "      <th>SizeRank</th>\n",
       "      <th>RegionName</th>\n",
       "      <th>RegionType</th>\n",
       "      <th>StateName</th>\n",
       "      <th>BaseDate</th>\n",
       "      <th>2024-11-30</th>\n",
       "      <th>2025-01-31</th>\n",
       "      <th>2025-10-31</th>\n",
       "    </tr>\n",
       "  </thead>\n",
       "  <tbody>\n",
       "    <tr>\n",
       "      <th>0</th>\n",
       "      <td>102001</td>\n",
       "      <td>0</td>\n",
       "      <td>United States</td>\n",
       "      <td>country</td>\n",
       "      <td>NaN</td>\n",
       "      <td>2024-10-31</td>\n",
       "      <td>0.2</td>\n",
       "      <td>0.6</td>\n",
       "      <td>2.9</td>\n",
       "    </tr>\n",
       "    <tr>\n",
       "      <th>1</th>\n",
       "      <td>394913</td>\n",
       "      <td>1</td>\n",
       "      <td>New York, NY</td>\n",
       "      <td>msa</td>\n",
       "      <td>NY</td>\n",
       "      <td>2024-10-31</td>\n",
       "      <td>0.3</td>\n",
       "      <td>0.5</td>\n",
       "      <td>1.5</td>\n",
       "    </tr>\n",
       "    <tr>\n",
       "      <th>2</th>\n",
       "      <td>753899</td>\n",
       "      <td>2</td>\n",
       "      <td>Los Angeles, CA</td>\n",
       "      <td>msa</td>\n",
       "      <td>CA</td>\n",
       "      <td>2024-10-31</td>\n",
       "      <td>0.2</td>\n",
       "      <td>0.4</td>\n",
       "      <td>2.3</td>\n",
       "    </tr>\n",
       "    <tr>\n",
       "      <th>3</th>\n",
       "      <td>394463</td>\n",
       "      <td>3</td>\n",
       "      <td>Chicago, IL</td>\n",
       "      <td>msa</td>\n",
       "      <td>IL</td>\n",
       "      <td>2024-10-31</td>\n",
       "      <td>0.1</td>\n",
       "      <td>0.2</td>\n",
       "      <td>1.1</td>\n",
       "    </tr>\n",
       "    <tr>\n",
       "      <th>4</th>\n",
       "      <td>394514</td>\n",
       "      <td>4</td>\n",
       "      <td>Dallas, TX</td>\n",
       "      <td>msa</td>\n",
       "      <td>TX</td>\n",
       "      <td>2024-10-31</td>\n",
       "      <td>-0.2</td>\n",
       "      <td>-0.7</td>\n",
       "      <td>1.2</td>\n",
       "    </tr>\n",
       "  </tbody>\n",
       "</table>\n",
       "</div>"
      ],
      "text/plain": [
       "   RegionID  SizeRank       RegionName RegionType StateName    BaseDate  \\\n",
       "0    102001         0    United States    country       NaN  2024-10-31   \n",
       "1    394913         1     New York, NY        msa        NY  2024-10-31   \n",
       "2    753899         2  Los Angeles, CA        msa        CA  2024-10-31   \n",
       "3    394463         3      Chicago, IL        msa        IL  2024-10-31   \n",
       "4    394514         4       Dallas, TX        msa        TX  2024-10-31   \n",
       "\n",
       "   2024-11-30  2025-01-31  2025-10-31  \n",
       "0         0.2         0.6         2.9  \n",
       "1         0.3         0.5         1.5  \n",
       "2         0.2         0.4         2.3  \n",
       "3         0.1         0.2         1.1  \n",
       "4        -0.2        -0.7         1.2  "
      ]
     },
     "execution_count": 6,
     "metadata": {},
     "output_type": "execute_result"
    }
   ],
   "source": [
    "df = df.drop_duplicates()\n",
    "df.head(5)"
   ]
  },
  {
   "cell_type": "code",
   "execution_count": 7,
   "id": "8242b319-c5d6-4912-bdf2-13ef4250d56b",
   "metadata": {},
   "outputs": [
    {
     "data": {
      "text/plain": [
       "RegionID      895\n",
       "SizeRank      895\n",
       "RegionName    895\n",
       "RegionType    895\n",
       "StateName     894\n",
       "BaseDate      895\n",
       "2024-11-30    895\n",
       "2025-01-31    895\n",
       "2025-10-31    895\n",
       "dtype: int64"
      ]
     },
     "execution_count": 7,
     "metadata": {},
     "output_type": "execute_result"
    }
   ],
   "source": [
    "df.count()"
   ]
  },
  {
   "cell_type": "code",
   "execution_count": 8,
   "id": "c38fa1e5-ec90-4fa5-b2cf-beb352a40b43",
   "metadata": {},
   "outputs": [
    {
     "name": "stdout",
     "output_type": "stream",
     "text": [
      "RegionID      0\n",
      "SizeRank      0\n",
      "RegionName    0\n",
      "RegionType    0\n",
      "StateName     1\n",
      "BaseDate      0\n",
      "2024-11-30    0\n",
      "2025-01-31    0\n",
      "2025-10-31    0\n",
      "dtype: int64\n"
     ]
    }
   ],
   "source": [
    "# We have determined that there are duplicates  so lets check for null values \n",
    "print(df.isnull().sum())"
   ]
  },
  {
   "cell_type": "code",
   "execution_count": 9,
   "id": "0446a3f4-471e-46ff-9593-88907d21a3de",
   "metadata": {},
   "outputs": [
    {
     "data": {
      "text/plain": [
       "RegionID      894\n",
       "SizeRank      894\n",
       "RegionName    894\n",
       "RegionType    894\n",
       "StateName     894\n",
       "BaseDate      894\n",
       "2024-11-30    894\n",
       "2025-01-31    894\n",
       "2025-10-31    894\n",
       "dtype: int64"
      ]
     },
     "execution_count": 9,
     "metadata": {},
     "output_type": "execute_result"
    }
   ],
   "source": [
    "df = df.dropna()    # Dropping the missing values.\n",
    "df.count()"
   ]
  },
  {
   "cell_type": "code",
   "execution_count": 10,
   "id": "61a29ce8-7dd2-478e-baf6-d606dfcab467",
   "metadata": {},
   "outputs": [
    {
     "name": "stdout",
     "output_type": "stream",
     "text": [
      "RegionID      0\n",
      "SizeRank      0\n",
      "RegionName    0\n",
      "RegionType    0\n",
      "StateName     0\n",
      "BaseDate      0\n",
      "2024-11-30    0\n",
      "2025-01-31    0\n",
      "2025-10-31    0\n",
      "dtype: int64\n"
     ]
    }
   ],
   "source": [
    "print(df.isnull().sum()) "
   ]
  },
  {
   "cell_type": "code",
   "execution_count": 11,
   "id": "0be8ce6f-12ae-4088-b055-11a883099414",
   "metadata": {},
   "outputs": [
    {
     "name": "stdout",
     "output_type": "stream",
     "text": [
      "Stable Regions:\n",
      "          RegionName StateName  GrowthVariance\n",
      "16   Minneapolis, MN        MN    1.155558e-33\n",
      "513   Starkville, MS        MS    4.622232e-33\n",
      "491    Red Bluff, CA        CA    3.333333e-03\n",
      "315     Bismarck, ND        ND    3.333333e-03\n",
      "826       Deming, NM        NM    1.000000e-02\n"
     ]
    }
   ],
   "source": [
    "# Step 1: Select growth metric columns for analysis\n",
    "growth_columns = ['2024-11-30', '2025-01-31', '2025-10-31']\n",
    "\n",
    "# Step 2: Add new columns for analysis\n",
    "# Calculate variance for stability of growth\n",
    "df['GrowthVariance'] = df[growth_columns].var(axis=1)\n",
    "\n",
    "# Calculate growth acceleration (difference between end and start period)\n",
    "df['GrowthAcceleration'] = df['2025-10-31'] - df['2024-11-30']\n",
    "\n",
    "# Step 3: Highlight regions based on conditions\n",
    "# Define thresholds for stability and acceleration\n",
    "stability_threshold = 0.05  # Example: variance < 0.05 for stable growth\n",
    "acceleration_threshold = 0.02  # Example: acceleration > 0.02 for positive growth\n",
    "\n",
    "# Identify stable growth regions\n",
    "stable_regions = df[df['GrowthVariance'] < stability_threshold]\n",
    "\n",
    "# Identify accelerating growth regions\n",
    "accelerating_regions = df[df['GrowthAcceleration'] > acceleration_threshold]\n",
    "\n",
    "# Step 4: Display summaries\n",
    "print(\"Stable Regions:\")\n",
    "print(stable_regions[['RegionName', 'StateName', 'GrowthVariance']].sort_values(by='GrowthVariance').head())"
   ]
  },
  {
   "cell_type": "code",
   "execution_count": 12,
   "id": "6ef6beaf-25c3-4e36-bfc8-f4df6ece3595",
   "metadata": {},
   "outputs": [
    {
     "data": {
      "image/png": "[encoded data removed]",
      "text/plain": [
       "<Figure size 1000x600 with 1 Axes>"
      ]
     },
     "metadata": {},
     "output_type": "display_data"
    }
   ],
   "source": [
    "plt.figure(figsize=(10, 6))\n",
    "stable_regions_sorted = stable_regions.sort_values(by='GrowthVariance', ascending=True)\n",
    "plt.barh(stable_regions_sorted['RegionName'][:10], stable_regions_sorted['GrowthVariance'][:10], color='skyblue')\n",
    "plt.xlabel('Growth Variance')\n",
    "plt.ylabel('Region Name')\n",
    "plt.title('Top 10 Stable Growth Regions (Low Growth Variance)')\n",
    "plt.tight_layout()\n",
    "plt.show()"
   ]
  },
  {
   "cell_type": "code",
   "execution_count": 14,
   "id": "770e9b47-c15f-40a4-994a-1dd14ad1aa69",
   "metadata": {},
   "outputs": [
    {
     "name": "stdout",
     "output_type": "stream",
     "text": [
      "Hot Regions:\n",
      "             RegionName StateName  GrowthVariance\n",
      "301      Morgantown, WV        WV        0.010000\n",
      "845        Wahpeton, ND        ND        0.010000\n",
      "54   Urban Honolulu, HI        HI        0.013333\n",
      "746       Effingham, IL        IL        0.013333\n",
      "708      Lock Haven, PA        PA        0.013333\n",
      "Hot Regions:\n",
      "             RegionName StateName  GrowthVariance\n",
      "301      Morgantown, WV        WV        0.010000\n",
      "845        Wahpeton, ND        ND        0.010000\n",
      "54   Urban Honolulu, HI        HI        0.013333\n",
      "746       Effingham, IL        IL        0.013333\n",
      "708      Lock Haven, PA        PA        0.013333\n"
     ]
    },
    {
     "data": {
      "image/png": "[encoded data removed]",
      "text/plain": [
       "<Figure size 1000x600 with 1 Axes>"
      ]
     },
     "metadata": {},
     "output_type": "display_data"
    }
   ],
   "source": [
    "# Filter the regions with accelerating growth (positive acceleration)\n",
    "accelerating_regions = df[df['GrowthAcceleration'] > acceleration_threshold]\n",
    "\n",
    "# Print top regions with low growth variance\n",
    "print(\"Hot Regions:\")\n",
    "print(accelerating_regions[['RegionName', 'StateName', 'GrowthVariance']].sort_values(by='GrowthVariance').head())\n",
    "\n",
    "\n",
    "# Filter the regions with accelerating growth (positive acceleration)\n",
    "accelerating_regions = df[df['GrowthAcceleration'] > acceleration_threshold]\n",
    "\n",
    "# Print top regions with high growth variance\n",
    "print(\"Hot Regions:\")\n",
    "print(accelerating_regions[['RegionName', 'StateName', 'GrowthVariance']].sort_values(by='GrowthVariance').head())\n",
    "\n",
    "# Plot top 10 accelerating regions with low growth variance\n",
    "plt.figure(figsize=(10, 6))\n",
    "accelerating_regions_sorted = accelerating_regions.sort_values(by='GrowthVariance', ascending=True)\n",
    "plt.barh(accelerating_regions_sorted['RegionName'][:10], accelerating_regions_sorted['GrowthVariance'][:10], color='purple')\n",
    "plt.xlabel('Growth Variance')\n",
    "plt.ylabel('Region Name')\n",
    "plt.title('Top 10 Accelerating Growth Regions (High Growth Variance)')\n",
    "plt.tight_layout()\n",
    "plt.show()\n",
    "\n"
   ]
  },
  {
   "cell_type": "code",
   "execution_count": null,
   "id": "67787a1d-f20d-4144-8966-608ebb3bf1ba",
   "metadata": {},
   "outputs": [],
   "source": []
  },
  {
   "cell_type": "code",
   "execution_count": null,
   "id": "85ad02c9-c2cb-4c13-9ccb-8550249a8d82",
   "metadata": {},
   "outputs": [],
   "source": []
  }
 ],
 "metadata": {
  "kernelspec": {
   "display_name": "Python 3 (ipykernel)",
   "language": "python",
   "name": "python3"
  },
  "language_info": {
   "codemirror_mode": {
    "name": "ipython",
    "version": 3
   },
   "file_extension": ".py",
   "mimetype": "text/x-python",
   "name": "python",
   "nbconvert_exporter": "python",
   "pygments_lexer": "ipython3",
   "version": "3.11.5"
  }
 },
 "nbformat": 4,
 "nbformat_minor": 5
}
